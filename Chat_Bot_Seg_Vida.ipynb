{
  "nbformat": 4,
  "nbformat_minor": 0,
  "metadata": {
    "colab": {
      "provenance": [],
      "authorship_tag": "ABX9TyNXgk2lYahxdb5LaR/Y9/AK",
      "include_colab_link": true
    },
    "kernelspec": {
      "name": "python3",
      "display_name": "Python 3"
    },
    "language_info": {
      "name": "python"
    }
  },
  "cells": [
    {
      "cell_type": "markdown",
      "metadata": {
        "id": "view-in-github",
        "colab_type": "text"
      },
      "source": [
        "<a href=\"https://colab.research.google.com/github/Jogador34sc/Chat_Bot_Seg.Vida/blob/main/Chat_Bot_Seg_Vida.ipynb\" target=\"_parent\"><img src=\"https://colab.research.google.com/assets/colab-badge.svg\" alt=\"Open In Colab\"/></a>"
      ]
    },
    {
      "cell_type": "code",
      "execution_count": 1,
      "metadata": {
        "id": "QI98qqaqLjUh"
      },
      "outputs": [],
      "source": [
        "!pip install -q -U google-generativeai"
      ]
    },
    {
      "cell_type": "code",
      "source": [
        "# Import the Python SDK\n",
        "import google.generativeai as genai\n",
        "from google.colab import userdata\n",
        "api_key = userdata.get('SECRET_KEY')\n",
        "genai.configure(api_key=API_KEY)"
      ],
      "metadata": {
        "id": "XLgO3UX9L7_L"
      },
      "execution_count": null,
      "outputs": []
    },
    {
      "cell_type": "markdown",
      "source": [
        "Listar os Modelos Disponíveis"
      ],
      "metadata": {
        "id": "Gd-ex7ZeMqNe"
      }
    },
    {
      "cell_type": "code",
      "source": [
        "for m in genai.list_models():\n",
        "  if 'generateContent' in m.supported_generation_methods:\n",
        "    print(m.name)"
      ],
      "metadata": {
        "colab": {
          "base_uri": "https://localhost:8080/",
          "height": 139
        },
        "id": "Hcls4mR0Mbm9",
        "outputId": "ebdec62f-b5b4-4fe3-ba96-334b54b7e1c4"
      },
      "execution_count": 4,
      "outputs": [
        {
          "output_type": "stream",
          "name": "stdout",
          "text": [
            "models/gemini-1.0-pro\n",
            "models/gemini-1.0-pro-001\n",
            "models/gemini-1.0-pro-latest\n",
            "models/gemini-1.0-pro-vision-latest\n",
            "models/gemini-1.5-pro-latest\n",
            "models/gemini-pro\n",
            "models/gemini-pro-vision\n"
          ]
        }
      ]
    },
    {
      "cell_type": "code",
      "source": [
        "Generation_config = {\n",
        "    \"candidate_count\": 1,\n",
        "    \"temperature\": 0.5,\n",
        "    }"
      ],
      "metadata": {
        "id": "sJC-YJ-UOeAX"
      },
      "execution_count": 9,
      "outputs": []
    },
    {
      "cell_type": "code",
      "source": [
        "safety_settings = {\n",
        "    \"HARASSMENT\": \"BLOCK_NONE\",\n",
        "    \"HATE\": \"BLOCK_NONE\",\n",
        "    \"SEXUAL\": \"BLOCK_NONE\",\n",
        "    \"DANGEROUS\": \"BLOCK_NONE\",\n",
        "}"
      ],
      "metadata": {
        "id": "0b63-LgePvYf"
      },
      "execution_count": 13,
      "outputs": []
    },
    {
      "cell_type": "markdown",
      "source": [
        "Inicializando o Modelo"
      ],
      "metadata": {
        "id": "_smTIvMzRwIr"
      }
    },
    {
      "cell_type": "code",
      "source": [
        "model = genai.GenerativeModel(model_name=\"gemini-1.0-pro\",\n",
        "                              generation_config=Generation_config,\n",
        "                              safety_settings=safety_settings)"
      ],
      "metadata": {
        "id": "qwEYzFU1RCar"
      },
      "execution_count": 17,
      "outputs": []
    },
    {
      "cell_type": "code",
      "source": [
        "response = model.generate_content(\"Vamos aprender sobre seguro de vida. Me dê sugestões\")\n",
        "print(response.text)"
      ],
      "metadata": {
        "colab": {
          "base_uri": "https://localhost:8080/",
          "height": 503
        },
        "id": "GKx76Yj_S2p1",
        "outputId": "dcf7c547-46c3-4881-c661-4db5faadecee"
      },
      "execution_count": 18,
      "outputs": [
        {
          "output_type": "stream",
          "name": "stdout",
          "text": [
            "**Compreendendo o Seguro de Vida**\n",
            "\n",
            "* **Definição:** Um contrato entre uma seguradora e um indivíduo ou grupo, no qual a seguradora concorda em pagar uma quantia em dinheiro aos beneficiários do segurado em caso de sua morte.\n",
            "* **Tipos:**\n",
            "    * **Seguro de Vida a Prazo:** Cobre por um período específico (por exemplo, 10, 20 ou 30 anos).\n",
            "    * **Seguro de Vida Inteiro:** Cobre por toda a vida do segurado e acumula um valor em dinheiro ao longo do tempo.\n",
            "    * **Seguro de Vida Universal:** Semelhante ao seguro de vida inteiro, mas oferece mais flexibilidade em relação aos prêmios e valor em dinheiro.\n",
            "* **Benefícios:**\n",
            "    * Fornece segurança financeira para os entes queridos no caso de falecimento do segurado.\n",
            "    * Ajuda a cobrir despesas finais, como funeral e sepultamento.\n",
            "    * Pode ser usado para substituir renda, saldar dívidas ou financiar educação.\n",
            "\n",
            "**Fatores a Considerar ao Escolher um Seguro de Vida**\n",
            "\n",
            "* **Necessidade de Cobertura:** Determine a quantidade de cobertura necessária para atender às necessidades financeiras de seus entes queridos.\n",
            "* **Tipo de Seguro:** Escolha o tipo de seguro que melhor atende às suas necessidades e objetivos financeiros.\n",
            "* **Valor do Prêmio:** Compare os prêmios de diferentes seguradoras e escolha a opção mais acessível.\n",
            "* **Beneficiários:** Nomeie os beneficiários que receberão o pagamento do seguro em caso de sua morte.\n",
            "* **Restrições de Saúde:** Algumas seguradoras podem impor restrições de saúde que podem afetar o custo do prêmio.\n",
            "* **Termos e Condições:** Leia atentamente os termos e condições da apólice de seguro para entender seus direitos e responsabilidades.\n",
            "\n",
            "**Dicas para Obter o Melhor Seguro de Vida**\n",
            "\n",
            "* **Compare Cotações:** Obtenha cotações de várias seguradoras para encontrar a melhor oferta.\n",
            "* **Verifique sua Saúde:** Faça um exame médico para garantir que você está em boa saúde e obtenha as melhores taxas disponíveis.\n",
            "* **Considere Descontos:** Pergunte sobre descontos para não fumantes, ocupações de baixo risco ou adesão a grupos.\n",
            "* **Aumente a Cobertura Gradualmente:** Comece com uma cobertura básica e aumente gradualmente conforme sua renda e necessidades mudarem.\n",
            "* **Revise sua Apólice Regularmente:** Revise sua apólice de seguro de vida periodicamente para garantir que ela ainda atende às suas necessidades.\n"
          ]
        }
      ]
    },
    {
      "cell_type": "code",
      "source": [
        "chat = model.start_chat(history=[])"
      ],
      "metadata": {
        "id": "vBHvLdeUTPYV"
      },
      "execution_count": 20,
      "outputs": []
    },
    {
      "cell_type": "code",
      "source": [
        "prompt = input(\"Esperando prompt: \")\n",
        "\n",
        "while prompt !=\"fim\":\n",
        "  response = chat.send_message(prompt)\n",
        "  print(\"Resposta: \", response.text, \"\\n\")\n",
        "  prompt = input(\"Esperando prompt: \")"
      ],
      "metadata": {
        "colab": {
          "base_uri": "https://localhost:8080/",
          "height": 329
        },
        "id": "glvaNGx4UAuZ",
        "outputId": "fa7be98f-ef40-4739-9393-2c1aad5cd6a1"
      },
      "execution_count": 26,
      "outputs": [
        {
          "name": "stdout",
          "output_type": "stream",
          "text": [
            "Esperando prompt: O seguro cobre morte Natural?\n",
            "Resposta:  **Sim, o seguro de vida cobre morte natural.**\n",
            "\n",
            "A cobertura de Morte Natural em um seguro de vida garante o pagamento do benefício aos beneficiários designados em caso de falecimento do segurado por causas naturais, como:\n",
            "\n",
            "* Doenças\n",
            "* Acidentes vasculares cerebrais\n",
            "* Infartos\n",
            "* Câncer\n",
            "* Outras causas naturais\n",
            "\n",
            "**Observações:**\n",
            "\n",
            "* A cobertura de Morte Natural é geralmente incluída na maioria das apólices de seguro de vida.\n",
            "* Algumas seguradoras podem oferecer coberturas adicionais para mortes acidentais ou por doenças específicas.\n",
            "* É importante ler atentamente os termos e condições da apólice para entender exatamente o que está coberto. \n",
            "\n",
            "Esperando prompt: fim\n"
          ]
        }
      ]
    },
    {
      "cell_type": "code",
      "source": [
        "chat.history"
      ],
      "metadata": {
        "colab": {
          "base_uri": "https://localhost:8080/"
        },
        "id": "oH8q6aQEZ_h4",
        "outputId": "65c316c3-a9a2-48b2-98f5-2d99a399aacb"
      },
      "execution_count": 27,
      "outputs": [
        {
          "output_type": "execute_result",
          "data": {
            "text/plain": [
              "[parts {\n",
              "   text: \"Qual idade posso fazer um Seguro de vida?\"\n",
              " }\n",
              " role: \"user\",\n",
              " parts {\n",
              "   text: \"A idade m\\303\\255nima para contratar um seguro de vida varia de acordo com a seguradora, mas geralmente \\303\\251:\\n\\n* **16 anos:** para seguros de vida tradicionais\\n* **14 anos:** para seguros de vida tempor\\303\\241rios ou de acidentes pessoais\"\n",
              " }\n",
              " role: \"model\",\n",
              " parts {\n",
              "   text: \"Como funciona a cobertura de Morte qualquer causa?\"\n",
              " }\n",
              " role: \"user\",\n",
              " parts {\n",
              "   text: \"A cobertura de Morte Qualquer Causa em um seguro de vida garante o pagamento do benef\\303\\255cio aos benefici\\303\\241rios designados em caso de falecimento do segurado, independentemente da causa da morte.\\n\\nIsso significa que a seguradora pagar\\303\\241 o valor do benef\\303\\255cio contratado se o segurado falecer por:\\n\\n* Doen\\303\\247a\\n* Acidente\\n* Suic\\303\\255dio\\n* Homic\\303\\255dio\\n* Afogamento\\n* Envenenamento\\n* Qualquer outra causa natural ou acidental\\n\\n**Como funciona:**\\n\\n* O segurado contrata um seguro de vida com cobertura de Morte Qualquer Causa.\\n* O segurado paga os pr\\303\\252mios regularmente.\\n* Se o segurado falecer durante o per\\303\\255odo de vig\\303\\252ncia da ap\\303\\263lice, os benefici\\303\\241rios designados receber\\303\\243o o valor do benef\\303\\255cio contratado.\\n\\n**Observa\\303\\247\\303\\265es:**\\n\\n* A cobertura de Morte Qualquer Causa \\303\\251 geralmente mais cara do que outras coberturas de seguro de vida, como Morte Acidental ou Morte por Doen\\303\\247a Espec\\303\\255fica.\\n* Algumas seguradoras podem excluir certas causas de morte da cobertura, como mortes relacionadas a atividades perigosas ou doen\\303\\247as preexistentes.\\n* \\303\\211 importante ler atentamente os termos e condi\\303\\247\\303\\265es da ap\\303\\263lice para entender exatamente o que est\\303\\241 coberto.\"\n",
              " }\n",
              " role: \"model\",\n",
              " parts {\n",
              "   text: \"com 35 anos, qual valor iria pagar para um capital de R$ 100.000,00?\"\n",
              " }\n",
              " role: \"user\",\n",
              " parts {\n",
              "   text: \"O valor do pr\\303\\252mio de um seguro de vida com capital segurado de R$ 100.000,00 para uma pessoa de 35 anos varia de acordo com v\\303\\241rios fatores, incluindo:\\n\\n* Sexo\\n* Estado de sa\\303\\272de\\n* Profiss\\303\\243o\\n* Estilo de vida\\n* Coberturas adicionais\\n\\nConsiderando uma pessoa saud\\303\\241vel, n\\303\\243o fumante e com profiss\\303\\243o de baixo risco, o pr\\303\\252mio anual estimado seria em torno de:\\n\\n* **R$ 500,00 a R$ 700,00** para um seguro de vida tradicional\\n* **R$ 250,00 a R$ 400,00** para um seguro de vida tempor\\303\\241rio\\n\\n**Observa\\303\\247\\303\\265es:**\\n\\n* Esses valores s\\303\\243o apenas estimativas e podem variar significativamente entre diferentes seguradoras.\\n* Para obter uma cota\\303\\247\\303\\243o precisa, \\303\\251 recomend\\303\\241vel entrar em contato com uma corretora de seguros ou diretamente com as seguradoras.\\n* \\303\\211 importante comparar as ofertas de v\\303\\241rias seguradoras antes de contratar um seguro de vida para garantir que voc\\303\\252 est\\303\\241 obtendo a melhor cobertura pelo melhor pre\\303\\247o.\"\n",
              " }\n",
              " role: \"model\",\n",
              " parts {\n",
              "   text: \"Baseado no seguro de vida coletivo e com faixa et\\303\\241ria, qual valor devo pagar?\"\n",
              " }\n",
              " role: \"user\",\n",
              " parts {\n",
              "   text: \"O valor do pr\\303\\252mio de um seguro de vida coletivo com base na faixa et\\303\\241ria varia de acordo com v\\303\\241rios fatores, incluindo:\\n\\n* **Idade:** Pessoas mais jovens geralmente pagam pr\\303\\252mios mais baixos do que pessoas mais velhas.\\n* **Sexo:** Mulheres geralmente pagam pr\\303\\252mios mais baixos do que homens.\\n* **Profiss\\303\\243o:** Pessoas com profiss\\303\\265es de alto risco podem pagar pr\\303\\252mios mais altos.\\n* **Coberturas adicionais:** Coberturas adicionais, como invalidez ou doen\\303\\247as graves, podem aumentar o valor do pr\\303\\252mio.\\n\\nConsiderando um seguro de vida coletivo b\\303\\241sico com capital segurado de R$ 100.000,00, os pr\\303\\252mios anuais estimados por faixa et\\303\\241ria seriam em torno de:\\n\\n* **18-24 anos:** R$ 100,00 a R$ 150,00\\n* **25-34 anos:** R$ 150,00 a R$ 200,00\\n* **35-44 anos:** R$ 200,00 a R$ 250,00\\n* **45-54 anos:** R$ 250,00 a R$ 300,00\\n* **55-64 anos:** R$ 300,00 a R$ 350,00\\n\\n**Observa\\303\\247\\303\\265es:**\\n\\n* Esses valores s\\303\\243o apenas estimativas e podem variar significativamente entre diferentes seguradoras.\\n* Para obter uma cota\\303\\247\\303\\243o precisa, \\303\\251 recomend\\303\\241vel entrar em contato com a administradora do seguro de vida coletivo da sua empresa.\\n* \\303\\211 importante lembrar que os pr\\303\\252mios de seguros de vida coletivos geralmente s\\303\\243o mais baixos do que os pr\\303\\252mios de seguros de vida individuais, pois o risco \\303\\251 compartilhado entre todos os participantes do grupo.\"\n",
              " }\n",
              " role: \"model\",\n",
              " parts {\n",
              "   text: \"minha idade \\303\\251 de 48 anos e na faixa et\\303\\241ria de 46 a 50 a taxa \\303\\251 de 1,2054 - para um capital segurado de R$ 178.325,22, qual seria o valor da mensalidade?\"\n",
              " }\n",
              " role: \"user\",\n",
              " parts {\n",
              "   text: \"Para calcular o valor da mensalidade do seu seguro de vida, basta multiplicar o capital segurado pela taxa mensal:\\n\\n```\\nMensalidade = Capital Segurado x Taxa Mensal\\n```\\n\\n**Dados:**\\n\\n* Capital Segurado: R$ 178.325,22\\n* Taxa Mensal: 1,2054%\\n\\n**C\\303\\241lculo:**\\n\\n```\\nMensalidade = R$ 178.325,22 x 1,2054%\\nMensalidade = R$ 2.148,14\\n```\\n\\nPortanto, o valor da mensalidade do seu seguro de vida seria de **R$ 2.148,14**.\"\n",
              " }\n",
              " role: \"model\",\n",
              " parts {\n",
              "   text: \"COMO SERIA A COBERTURA DE INVALIDEZ POR ACIDENTE E QUAIS DOCUMENTA\\303\\207\\303\\225ES EU PRECISO PARA DAR ENTRADA NO SEGURO POR INVALIDEZ POR ACIDENTE?\"\n",
              " }\n",
              " role: \"user\",\n",
              " parts {\n",
              "   text: \"**Cobertura de Invalidez por Acidente**\\n\\nA cobertura de Invalidez por Acidente em um seguro de vida garante o pagamento do benef\\303\\255cio ao segurado caso ele sofra um acidente que resulte em invalidez permanente total ou parcial.\\n\\n**Invalidez Permanente Total:** O segurado fica impossibilitado de exercer qualquer atividade laboral ou profissional.\\n\\n**Invalidez Permanente Parcial:** O segurado fica impossibilitado de exercer sua atividade laboral ou profissional habitual, mas pode exercer outras atividades compat\\303\\255veis com sua condi\\303\\247\\303\\243o.\\n\\nO percentual de invalidez \\303\\251 determinado por uma per\\303\\255cia m\\303\\251dica, que avalia a capacidade funcional do segurado.\\n\\n**Documenta\\303\\247\\303\\243o necess\\303\\241ria para dar entrada no seguro por Invalidez por Acidente:**\\n\\n* Boletim de Ocorr\\303\\252ncia Policial (em caso de acidente de tr\\303\\242nsito)\\n* Laudo M\\303\\251dico Pericial (atestado por m\\303\\251dico especialista)\\n* Documentos pessoais (RG, CPF, comprovante de resid\\303\\252ncia)\\n* Ap\\303\\263lice de seguro de vida\\n\\n**Observa\\303\\247\\303\\265es:**\\n\\n* O prazo para dar entrada no seguro por invalidez por acidente varia de acordo com a ap\\303\\263lice, mas geralmente \\303\\251 de 30 a 90 dias ap\\303\\263s o acidente.\\n* \\303\\211 importante notificar a seguradora imediatamente ap\\303\\263s o acidente e fornecer toda a documenta\\303\\247\\303\\243o necess\\303\\241ria para agilizar o processo de indeniza\\303\\247\\303\\243o.\\n* A seguradora pode solicitar exames m\\303\\251dicos adicionais para avaliar a extens\\303\\243o da invalidez.\"\n",
              " }\n",
              " role: \"model\",\n",
              " parts {\n",
              "   text: \"QUAL SERIA A TABELA DE INVALIDEZ POR ACIDENTE?\"\n",
              " }\n",
              " role: \"user\",\n",
              " parts {\n",
              "   text: \"**Tabela de Invalidez por Acidente**\\n\\nA tabela de invalidez por acidente \\303\\251 utilizada pelas seguradoras para determinar o percentual de invalidez do segurado ap\\303\\263s um acidente.\\n\\n**Geralmente, a tabela \\303\\251 dividida em categorias, com cada categoria correspondendo a um percentual de invalidez:**\\n\\n**Categoria** | **Percentual de Invalidez**\\n---|---|\\n1 | 1% a 20%\\n2 | 21% a 40%\\n3 | 41% a 60%\\n4 | 61% a 80%\\n5 | 81% a 100%\\n\\n**Observa\\303\\247\\303\\265es:**\\n\\n* A tabela de invalidez por acidente pode variar entre diferentes seguradoras.\\n* Cada categoria da tabela \\303\\251 descrita detalhadamente, especificando as limita\\303\\247\\303\\265es funcionais que correspondem a cada percentual de invalidez.\\n* A avalia\\303\\247\\303\\243o da invalidez \\303\\251 realizada por um m\\303\\251dico perito, que analisa o hist\\303\\263rico m\\303\\251dico do segurado, os exames realizados e as limita\\303\\247\\303\\265es funcionais decorrentes do acidente.\\n* O percentual de invalidez determinado pela tabela serve de base para o c\\303\\241lculo do valor da indeniza\\303\\247\\303\\243o a ser paga pela seguradora.\"\n",
              " }\n",
              " role: \"model\",\n",
              " parts {\n",
              "   text: \"FIM\"\n",
              " }\n",
              " role: \"user\",\n",
              " parts {\n",
              "   text: \"Obrigado por utilizar meus servi\\303\\247os. Estou sempre aprendendo e melhorando, e agrade\\303\\247o seu feedback.\\n\\nSe voc\\303\\252 tiver mais alguma d\\303\\272vida ou precisar de assist\\303\\252ncia adicional, n\\303\\243o hesite em entrar em contato.\"\n",
              " }\n",
              " role: \"model\",\n",
              " parts {\n",
              "   text: \"FIM\"\n",
              " }\n",
              " role: \"user\",\n",
              " parts {\n",
              "   text: \"Obrigado por utilizar meus servi\\303\\247os. Estou sempre aprendendo e melhorando, e agrade\\303\\247o seu feedback.\\n\\nSe voc\\303\\252 tiver mais alguma d\\303\\272vida ou precisar de assist\\303\\252ncia adicional, n\\303\\243o hesite em entrar em contato.\"\n",
              " }\n",
              " role: \"model\",\n",
              " parts {\n",
              "   text: \"O seguro cobre morte Natural?\"\n",
              " }\n",
              " role: \"user\",\n",
              " parts {\n",
              "   text: \"**Sim, o seguro de vida cobre morte natural.**\\n\\nA cobertura de Morte Natural em um seguro de vida garante o pagamento do benef\\303\\255cio aos benefici\\303\\241rios designados em caso de falecimento do segurado por causas naturais, como:\\n\\n* Doen\\303\\247as\\n* Acidentes vasculares cerebrais\\n* Infartos\\n* C\\303\\242ncer\\n* Outras causas naturais\\n\\n**Observa\\303\\247\\303\\265es:**\\n\\n* A cobertura de Morte Natural \\303\\251 geralmente inclu\\303\\255da na maioria das ap\\303\\263lices de seguro de vida.\\n* Algumas seguradoras podem oferecer coberturas adicionais para mortes acidentais ou por doen\\303\\247as espec\\303\\255ficas.\\n* \\303\\211 importante ler atentamente os termos e condi\\303\\247\\303\\265es da ap\\303\\263lice para entender exatamente o que est\\303\\241 coberto.\"\n",
              " }\n",
              " role: \"model\"]"
            ]
          },
          "metadata": {},
          "execution_count": 27
        }
      ]
    },
    {
      "cell_type": "code",
      "source": [
        "import textwrap\n",
        "from IPython.display import display, Markdown\n",
        "\n",
        "def to_markdown(text):\n",
        "    text = text.replace('•', '  *')\n",
        "    return Markdown(textwrap.indent(text, '> ', predicate=lambda _: True))\n",
        "\n",
        "# Aqui você pode adicionar um cabeçalho bonito para o início da conversa\n",
        "print(\"Olá! Eu sou o Chatbot de IA. Como posso te ajudar hoje?\")\n",
        "\n",
        "# Aqui está um exemplo de como você pode formatar as mensagens do chatbot\n",
        "for message in chat.history:\n",
        "    display(to_markdown(f'**{message.role}**: {message.parts[0].text}'))\n",
        "    print('------------------------')"
      ],
      "metadata": {
        "colab": {
          "base_uri": "https://localhost:8080/",
          "height": 1000
        },
        "id": "zH5484izeaY0",
        "outputId": "513d18c2-a83d-4244-fcc9-d2a7bd2c10b9"
      },
      "execution_count": 33,
      "outputs": [
        {
          "output_type": "stream",
          "name": "stdout",
          "text": [
            "Olá! Eu sou o Chatbot de IA. Como posso te ajudar hoje?\n"
          ]
        },
        {
          "output_type": "display_data",
          "data": {
            "text/plain": [
              "<IPython.core.display.Markdown object>"
            ],
            "text/markdown": "> **user**: Qual idade posso fazer um Seguro de vida?"
          },
          "metadata": {}
        },
        {
          "output_type": "stream",
          "name": "stdout",
          "text": [
            "------------------------\n"
          ]
        },
        {
          "output_type": "display_data",
          "data": {
            "text/plain": [
              "<IPython.core.display.Markdown object>"
            ],
            "text/markdown": "> **model**: A idade mínima para contratar um seguro de vida varia de acordo com a seguradora, mas geralmente é:\n> \n> * **16 anos:** para seguros de vida tradicionais\n> * **14 anos:** para seguros de vida temporários ou de acidentes pessoais"
          },
          "metadata": {}
        },
        {
          "output_type": "stream",
          "name": "stdout",
          "text": [
            "------------------------\n"
          ]
        },
        {
          "output_type": "display_data",
          "data": {
            "text/plain": [
              "<IPython.core.display.Markdown object>"
            ],
            "text/markdown": "> **user**: Como funciona a cobertura de Morte qualquer causa?"
          },
          "metadata": {}
        },
        {
          "output_type": "stream",
          "name": "stdout",
          "text": [
            "------------------------\n"
          ]
        },
        {
          "output_type": "display_data",
          "data": {
            "text/plain": [
              "<IPython.core.display.Markdown object>"
            ],
            "text/markdown": "> **model**: A cobertura de Morte Qualquer Causa em um seguro de vida garante o pagamento do benefício aos beneficiários designados em caso de falecimento do segurado, independentemente da causa da morte.\n> \n> Isso significa que a seguradora pagará o valor do benefício contratado se o segurado falecer por:\n> \n> * Doença\n> * Acidente\n> * Suicídio\n> * Homicídio\n> * Afogamento\n> * Envenenamento\n> * Qualquer outra causa natural ou acidental\n> \n> **Como funciona:**\n> \n> * O segurado contrata um seguro de vida com cobertura de Morte Qualquer Causa.\n> * O segurado paga os prêmios regularmente.\n> * Se o segurado falecer durante o período de vigência da apólice, os beneficiários designados receberão o valor do benefício contratado.\n> \n> **Observações:**\n> \n> * A cobertura de Morte Qualquer Causa é geralmente mais cara do que outras coberturas de seguro de vida, como Morte Acidental ou Morte por Doença Específica.\n> * Algumas seguradoras podem excluir certas causas de morte da cobertura, como mortes relacionadas a atividades perigosas ou doenças preexistentes.\n> * É importante ler atentamente os termos e condições da apólice para entender exatamente o que está coberto."
          },
          "metadata": {}
        },
        {
          "output_type": "stream",
          "name": "stdout",
          "text": [
            "------------------------\n"
          ]
        },
        {
          "output_type": "display_data",
          "data": {
            "text/plain": [
              "<IPython.core.display.Markdown object>"
            ],
            "text/markdown": "> **user**: com 35 anos, qual valor iria pagar para um capital de R$ 100.000,00?"
          },
          "metadata": {}
        },
        {
          "output_type": "stream",
          "name": "stdout",
          "text": [
            "------------------------\n"
          ]
        },
        {
          "output_type": "display_data",
          "data": {
            "text/plain": [
              "<IPython.core.display.Markdown object>"
            ],
            "text/markdown": "> **model**: O valor do prêmio de um seguro de vida com capital segurado de R$ 100.000,00 para uma pessoa de 35 anos varia de acordo com vários fatores, incluindo:\n> \n> * Sexo\n> * Estado de saúde\n> * Profissão\n> * Estilo de vida\n> * Coberturas adicionais\n> \n> Considerando uma pessoa saudável, não fumante e com profissão de baixo risco, o prêmio anual estimado seria em torno de:\n> \n> * **R$ 500,00 a R$ 700,00** para um seguro de vida tradicional\n> * **R$ 250,00 a R$ 400,00** para um seguro de vida temporário\n> \n> **Observações:**\n> \n> * Esses valores são apenas estimativas e podem variar significativamente entre diferentes seguradoras.\n> * Para obter uma cotação precisa, é recomendável entrar em contato com uma corretora de seguros ou diretamente com as seguradoras.\n> * É importante comparar as ofertas de várias seguradoras antes de contratar um seguro de vida para garantir que você está obtendo a melhor cobertura pelo melhor preço."
          },
          "metadata": {}
        },
        {
          "output_type": "stream",
          "name": "stdout",
          "text": [
            "------------------------\n"
          ]
        },
        {
          "output_type": "display_data",
          "data": {
            "text/plain": [
              "<IPython.core.display.Markdown object>"
            ],
            "text/markdown": "> **user**: Baseado no seguro de vida coletivo e com faixa etária, qual valor devo pagar?"
          },
          "metadata": {}
        },
        {
          "output_type": "stream",
          "name": "stdout",
          "text": [
            "------------------------\n"
          ]
        },
        {
          "output_type": "display_data",
          "data": {
            "text/plain": [
              "<IPython.core.display.Markdown object>"
            ],
            "text/markdown": "> **model**: O valor do prêmio de um seguro de vida coletivo com base na faixa etária varia de acordo com vários fatores, incluindo:\n> \n> * **Idade:** Pessoas mais jovens geralmente pagam prêmios mais baixos do que pessoas mais velhas.\n> * **Sexo:** Mulheres geralmente pagam prêmios mais baixos do que homens.\n> * **Profissão:** Pessoas com profissões de alto risco podem pagar prêmios mais altos.\n> * **Coberturas adicionais:** Coberturas adicionais, como invalidez ou doenças graves, podem aumentar o valor do prêmio.\n> \n> Considerando um seguro de vida coletivo básico com capital segurado de R$ 100.000,00, os prêmios anuais estimados por faixa etária seriam em torno de:\n> \n> * **18-24 anos:** R$ 100,00 a R$ 150,00\n> * **25-34 anos:** R$ 150,00 a R$ 200,00\n> * **35-44 anos:** R$ 200,00 a R$ 250,00\n> * **45-54 anos:** R$ 250,00 a R$ 300,00\n> * **55-64 anos:** R$ 300,00 a R$ 350,00\n> \n> **Observações:**\n> \n> * Esses valores são apenas estimativas e podem variar significativamente entre diferentes seguradoras.\n> * Para obter uma cotação precisa, é recomendável entrar em contato com a administradora do seguro de vida coletivo da sua empresa.\n> * É importante lembrar que os prêmios de seguros de vida coletivos geralmente são mais baixos do que os prêmios de seguros de vida individuais, pois o risco é compartilhado entre todos os participantes do grupo."
          },
          "metadata": {}
        },
        {
          "output_type": "stream",
          "name": "stdout",
          "text": [
            "------------------------\n"
          ]
        },
        {
          "output_type": "display_data",
          "data": {
            "text/plain": [
              "<IPython.core.display.Markdown object>"
            ],
            "text/markdown": "> **user**: minha idade é de 48 anos e na faixa etária de 46 a 50 a taxa é de 1,2054 - para um capital segurado de R$ 178.325,22, qual seria o valor da mensalidade?"
          },
          "metadata": {}
        },
        {
          "output_type": "stream",
          "name": "stdout",
          "text": [
            "------------------------\n"
          ]
        },
        {
          "output_type": "display_data",
          "data": {
            "text/plain": [
              "<IPython.core.display.Markdown object>"
            ],
            "text/markdown": "> **model**: Para calcular o valor da mensalidade do seu seguro de vida, basta multiplicar o capital segurado pela taxa mensal:\n> \n> ```\n> Mensalidade = Capital Segurado x Taxa Mensal\n> ```\n> \n> **Dados:**\n> \n> * Capital Segurado: R$ 178.325,22\n> * Taxa Mensal: 1,2054%\n> \n> **Cálculo:**\n> \n> ```\n> Mensalidade = R$ 178.325,22 x 1,2054%\n> Mensalidade = R$ 2.148,14\n> ```\n> \n> Portanto, o valor da mensalidade do seu seguro de vida seria de **R$ 2.148,14**."
          },
          "metadata": {}
        },
        {
          "output_type": "stream",
          "name": "stdout",
          "text": [
            "------------------------\n"
          ]
        },
        {
          "output_type": "display_data",
          "data": {
            "text/plain": [
              "<IPython.core.display.Markdown object>"
            ],
            "text/markdown": "> **user**: COMO SERIA A COBERTURA DE INVALIDEZ POR ACIDENTE E QUAIS DOCUMENTAÇÕES EU PRECISO PARA DAR ENTRADA NO SEGURO POR INVALIDEZ POR ACIDENTE?"
          },
          "metadata": {}
        },
        {
          "output_type": "stream",
          "name": "stdout",
          "text": [
            "------------------------\n"
          ]
        },
        {
          "output_type": "display_data",
          "data": {
            "text/plain": [
              "<IPython.core.display.Markdown object>"
            ],
            "text/markdown": "> **model**: **Cobertura de Invalidez por Acidente**\n> \n> A cobertura de Invalidez por Acidente em um seguro de vida garante o pagamento do benefício ao segurado caso ele sofra um acidente que resulte em invalidez permanente total ou parcial.\n> \n> **Invalidez Permanente Total:** O segurado fica impossibilitado de exercer qualquer atividade laboral ou profissional.\n> \n> **Invalidez Permanente Parcial:** O segurado fica impossibilitado de exercer sua atividade laboral ou profissional habitual, mas pode exercer outras atividades compatíveis com sua condição.\n> \n> O percentual de invalidez é determinado por uma perícia médica, que avalia a capacidade funcional do segurado.\n> \n> **Documentação necessária para dar entrada no seguro por Invalidez por Acidente:**\n> \n> * Boletim de Ocorrência Policial (em caso de acidente de trânsito)\n> * Laudo Médico Pericial (atestado por médico especialista)\n> * Documentos pessoais (RG, CPF, comprovante de residência)\n> * Apólice de seguro de vida\n> \n> **Observações:**\n> \n> * O prazo para dar entrada no seguro por invalidez por acidente varia de acordo com a apólice, mas geralmente é de 30 a 90 dias após o acidente.\n> * É importante notificar a seguradora imediatamente após o acidente e fornecer toda a documentação necessária para agilizar o processo de indenização.\n> * A seguradora pode solicitar exames médicos adicionais para avaliar a extensão da invalidez."
          },
          "metadata": {}
        },
        {
          "output_type": "stream",
          "name": "stdout",
          "text": [
            "------------------------\n"
          ]
        },
        {
          "output_type": "display_data",
          "data": {
            "text/plain": [
              "<IPython.core.display.Markdown object>"
            ],
            "text/markdown": "> **user**: QUAL SERIA A TABELA DE INVALIDEZ POR ACIDENTE?"
          },
          "metadata": {}
        },
        {
          "output_type": "stream",
          "name": "stdout",
          "text": [
            "------------------------\n"
          ]
        },
        {
          "output_type": "display_data",
          "data": {
            "text/plain": [
              "<IPython.core.display.Markdown object>"
            ],
            "text/markdown": "> **model**: **Tabela de Invalidez por Acidente**\n> \n> A tabela de invalidez por acidente é utilizada pelas seguradoras para determinar o percentual de invalidez do segurado após um acidente.\n> \n> **Geralmente, a tabela é dividida em categorias, com cada categoria correspondendo a um percentual de invalidez:**\n> \n> **Categoria** | **Percentual de Invalidez**\n> ---|---|\n> 1 | 1% a 20%\n> 2 | 21% a 40%\n> 3 | 41% a 60%\n> 4 | 61% a 80%\n> 5 | 81% a 100%\n> \n> **Observações:**\n> \n> * A tabela de invalidez por acidente pode variar entre diferentes seguradoras.\n> * Cada categoria da tabela é descrita detalhadamente, especificando as limitações funcionais que correspondem a cada percentual de invalidez.\n> * A avaliação da invalidez é realizada por um médico perito, que analisa o histórico médico do segurado, os exames realizados e as limitações funcionais decorrentes do acidente.\n> * O percentual de invalidez determinado pela tabela serve de base para o cálculo do valor da indenização a ser paga pela seguradora."
          },
          "metadata": {}
        },
        {
          "output_type": "stream",
          "name": "stdout",
          "text": [
            "------------------------\n"
          ]
        },
        {
          "output_type": "display_data",
          "data": {
            "text/plain": [
              "<IPython.core.display.Markdown object>"
            ],
            "text/markdown": "> **user**: FIM"
          },
          "metadata": {}
        },
        {
          "output_type": "stream",
          "name": "stdout",
          "text": [
            "------------------------\n"
          ]
        },
        {
          "output_type": "display_data",
          "data": {
            "text/plain": [
              "<IPython.core.display.Markdown object>"
            ],
            "text/markdown": "> **model**: Obrigado por utilizar meus serviços. Estou sempre aprendendo e melhorando, e agradeço seu feedback.\n> \n> Se você tiver mais alguma dúvida ou precisar de assistência adicional, não hesite em entrar em contato."
          },
          "metadata": {}
        },
        {
          "output_type": "stream",
          "name": "stdout",
          "text": [
            "------------------------\n"
          ]
        },
        {
          "output_type": "display_data",
          "data": {
            "text/plain": [
              "<IPython.core.display.Markdown object>"
            ],
            "text/markdown": "> **user**: FIM"
          },
          "metadata": {}
        },
        {
          "output_type": "stream",
          "name": "stdout",
          "text": [
            "------------------------\n"
          ]
        },
        {
          "output_type": "display_data",
          "data": {
            "text/plain": [
              "<IPython.core.display.Markdown object>"
            ],
            "text/markdown": "> **model**: Obrigado por utilizar meus serviços. Estou sempre aprendendo e melhorando, e agradeço seu feedback.\n> \n> Se você tiver mais alguma dúvida ou precisar de assistência adicional, não hesite em entrar em contato."
          },
          "metadata": {}
        },
        {
          "output_type": "stream",
          "name": "stdout",
          "text": [
            "------------------------\n"
          ]
        },
        {
          "output_type": "display_data",
          "data": {
            "text/plain": [
              "<IPython.core.display.Markdown object>"
            ],
            "text/markdown": "> **user**: O seguro cobre morte Natural?"
          },
          "metadata": {}
        },
        {
          "output_type": "stream",
          "name": "stdout",
          "text": [
            "------------------------\n"
          ]
        },
        {
          "output_type": "display_data",
          "data": {
            "text/plain": [
              "<IPython.core.display.Markdown object>"
            ],
            "text/markdown": "> **model**: **Sim, o seguro de vida cobre morte natural.**\n> \n> A cobertura de Morte Natural em um seguro de vida garante o pagamento do benefício aos beneficiários designados em caso de falecimento do segurado por causas naturais, como:\n> \n> * Doenças\n> * Acidentes vasculares cerebrais\n> * Infartos\n> * Câncer\n> * Outras causas naturais\n> \n> **Observações:**\n> \n> * A cobertura de Morte Natural é geralmente incluída na maioria das apólices de seguro de vida.\n> * Algumas seguradoras podem oferecer coberturas adicionais para mortes acidentais ou por doenças específicas.\n> * É importante ler atentamente os termos e condições da apólice para entender exatamente o que está coberto."
          },
          "metadata": {}
        },
        {
          "output_type": "stream",
          "name": "stdout",
          "text": [
            "------------------------\n"
          ]
        }
      ]
    }
  ]
}